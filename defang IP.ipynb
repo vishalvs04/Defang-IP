{
 "cells": [
  {
   "cell_type": "markdown",
   "id": "a21cf136",
   "metadata": {},
   "source": [
    "# Defang IP Project"
   ]
  },
  {
   "cell_type": "markdown",
   "id": "fa0cc141",
   "metadata": {},
   "source": [
    "To convert an IP address to a defanged IP address, we need to replace “.” with “[.]”. \n",
    "During coding interviews, a standard problem for changing an IP address is that you receive a valid IP address, \n",
    "you must return a defanged version of that IP address."
   ]
  },
  {
   "cell_type": "code",
   "execution_count": 4,
   "id": "111bfe5d",
   "metadata": {},
   "outputs": [],
   "source": [
    "def defang_ip(ip):\n",
    "    new_address=\"\"\n",
    "    split_address=ip.split(\".\")\n",
    "    separator=\"[.]\"\n",
    "    new_address=separator.join(split_address)\n",
    "    return new_address"
   ]
  },
  {
   "cell_type": "code",
   "execution_count": 5,
   "id": "ae99b349",
   "metadata": {},
   "outputs": [],
   "source": [
    "result=defang_ip('183.83.42.232')"
   ]
  },
  {
   "cell_type": "code",
   "execution_count": 6,
   "id": "ae1f5374",
   "metadata": {},
   "outputs": [
    {
     "name": "stdout",
     "output_type": "stream",
     "text": [
      "183[.]83[.]42[.]232\n"
     ]
    }
   ],
   "source": [
    "print(result)"
   ]
  },
  {
   "cell_type": "code",
   "execution_count": null,
   "id": "5694bb16",
   "metadata": {},
   "outputs": [],
   "source": []
  }
 ],
 "metadata": {
  "kernelspec": {
   "display_name": "Python 3 (ipykernel)",
   "language": "python",
   "name": "python3"
  },
  "language_info": {
   "codemirror_mode": {
    "name": "ipython",
    "version": 3
   },
   "file_extension": ".py",
   "mimetype": "text/x-python",
   "name": "python",
   "nbconvert_exporter": "python",
   "pygments_lexer": "ipython3",
   "version": "3.9.7"
  }
 },
 "nbformat": 4,
 "nbformat_minor": 5
}
